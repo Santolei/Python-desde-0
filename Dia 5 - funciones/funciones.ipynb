{
  "nbformat": 4,
  "nbformat_minor": 0,
  "metadata": {
    "colab": {
      "name": "Untitled9.ipynb",
      "version": "0.3.2",
      "provenance": [],
      "collapsed_sections": []
    },
    "kernelspec": {
      "name": "python3",
      "display_name": "Python 3"
    }
  },
  "cells": [
    {
      "cell_type": "markdown",
      "metadata": {
        "id": "K-ZKU0nezo6J",
        "colab_type": "text"
      },
      "source": [
        "Una función no es más que un conjunto de líneas de código que realizan una tarea.\n",
        "Todas las funciones empiezan por def nombre_funcion(parámetros):"
      ]
    },
    {
      "cell_type": "code",
      "metadata": {
        "id": "fK644zNPzsYh",
        "colab_type": "code",
        "colab": {
          "base_uri": "https://localhost:8080/",
          "height": 34
        },
        "outputId": "7710a5cb-6a6c-45c6-a701-22d23f81afd4"
      },
      "source": [
        "def saludar():\n",
        "  print(\"Hola\")\n",
        "  \n",
        "# Una función no hace nada si no la llamamos:\n",
        "saludar()"
      ],
      "execution_count": 2,
      "outputs": [
        {
          "output_type": "stream",
          "text": [
            "Hola\n"
          ],
          "name": "stdout"
        }
      ]
    },
    {
      "cell_type": "markdown",
      "metadata": {
        "id": "CSWJu3s_0bS4",
        "colab_type": "text"
      },
      "source": [
        "Por supuesto que esto no sirve de mucho, podríamos haber llegado al mismo resultado con print(\"Hola\") pero esto demuestra que podemos crear nuestras propias funciones y las posibilidades son ilimitadas.\n",
        "Esta función simple calcula el iva o impuesto de un producto:"
      ]
    },
    {
      "cell_type": "code",
      "metadata": {
        "id": "dWRXBDgk0sCv",
        "colab_type": "code",
        "colab": {}
      },
      "source": [
        "def iva():\n",
        "  total=int( input('¿Cuanto gastaste?'))\n",
        "  num=int( input('¿que tipo de producto compraste? 1)leche 2)pan 3)Pendrive 4)otros'))\n",
        "  if num==1:\n",
        "    iv=21\n",
        "  elif num==2:\n",
        "    iv=21\n",
        "  elif num==3:\n",
        "    iv=10.5\n",
        "  else:\n",
        "    iv=21\n",
        "  iva=(total*iv/100)\n",
        "  print('el iva de ese producto es: $', iva)\n",
        "  return iva\n",
        "iva()"
      ],
      "execution_count": 0,
      "outputs": []
    },
    {
      "cell_type": "markdown",
      "metadata": {
        "id": "b5gkaC421yun",
        "colab_type": "text"
      },
      "source": [
        "==== Funciones con 2 argumentos =====\n",
        "\n",
        "Esta función de 2 argumentos calcula el promedio:"
      ]
    },
    {
      "cell_type": "code",
      "metadata": {
        "id": "mOu1at__2GzY",
        "colab_type": "code",
        "colab": {}
      },
      "source": [
        "def calculaPromedio(x, y):\n",
        "  resultado = (x + y) / 2\n",
        "  return resultado\n",
        "a = 4\n",
        "b = 8\n",
        "promedio = calculaPromedio(a, b)\n",
        "print(\"El promedio es: \", promedio)"
      ],
      "execution_count": 0,
      "outputs": []
    },
    {
      "cell_type": "markdown",
      "metadata": {
        "id": "CVISFGqN2u_P",
        "colab_type": "text"
      },
      "source": [
        "==== Funciones con argumento múltiples: =====\n",
        "\n",
        "Esta función calcula el promedio de todos los argumentos que quieras:"
      ]
    },
    {
      "cell_type": "code",
      "metadata": {
        "id": "YEgo7Jey3OSH",
        "colab_type": "code",
        "colab": {}
      },
      "source": [
        "def calculaPromedio(*argumentos): #definiendo el parámetro con un * le decimos que puede recibir cualquier cantidad de parámetros\n",
        "  total = 0\n",
        "  for i in argumentos:\n",
        "    total += i\n",
        "    resultado = total / len(argumentos) # la funcion len en python me devuelve el número de items de un objeto\n",
        "  return resultado\n",
        "a, b, c, d, e = 3, 5, 10, 15, 160\n",
        "promedio = calculaPromedio(a, b, c, d, e)\n",
        "print(\"El promedio es: \", promedio)"
      ],
      "execution_count": 0,
      "outputs": []
    },
    {
      "cell_type": "markdown",
      "metadata": {
        "id": "j3KiP9904sLe",
        "colab_type": "text"
      },
      "source": [
        "==== Llamada sin argumentos ==============\n",
        "\n",
        "Suponiendo que tenemos esta funcióon:"
      ]
    },
    {
      "cell_type": "code",
      "metadata": {
        "id": "n50JRLVi44bW",
        "colab_type": "code",
        "colab": {}
      },
      "source": [
        "def resta(a, b):\n",
        "  return a - b\n",
        "resta( 8, 4)"
      ],
      "execution_count": 0,
      "outputs": []
    },
    {
      "cell_type": "markdown",
      "metadata": {
        "id": "hmbwvceX5DQW",
        "colab_type": "text"
      },
      "source": [
        "Veamos el error que nos tira al no pasarle ningún argumento:"
      ]
    },
    {
      "cell_type": "code",
      "metadata": {
        "id": "fG86t_bM5IMd",
        "colab_type": "code",
        "colab": {}
      },
      "source": [
        "resta()"
      ],
      "execution_count": 0,
      "outputs": []
    },
    {
      "cell_type": "markdown",
      "metadata": {
        "id": "4P9e48Tv5PMG",
        "colab_type": "text"
      },
      "source": [
        "Para evitar la excepción TypeError ejecutada al momento de la llamada a una función sin argumentos, podemos asignar unos valores por defecto nulos a los parámetros, de esa forma se puede hacer una comprobación antes de ejecutar la función:"
      ]
    },
    {
      "cell_type": "code",
      "metadata": {
        "id": "WOKTTqc65bw-",
        "colab_type": "code",
        "colab": {
          "base_uri": "https://localhost:8080/",
          "height": 51
        },
        "outputId": "a724ba0c-87b9-48a6-ad52-107722001cc5"
      },
      "source": [
        "def resta(a=None, b=None):\n",
        "  if a == None or b == None:\n",
        "    print(\"Error, debes enviar dos números a la función\")\n",
        "    return 0\n",
        "  return a - b\n",
        "resta()"
      ],
      "execution_count": 29,
      "outputs": [
        {
          "output_type": "stream",
          "text": [
            "Error, debes enviar dos números a la función\n"
          ],
          "name": "stdout"
        },
        {
          "output_type": "execute_result",
          "data": {
            "text/plain": [
              "0"
            ]
          },
          "metadata": {
            "tags": []
          },
          "execution_count": 29
        }
      ]
    },
    {
      "cell_type": "markdown",
      "metadata": {
        "id": "PffP7KjE6pLd",
        "colab_type": "text"
      },
      "source": [
        "EJERCICIO:\n",
        "\n",
        "Definir una función maximo() que tome como argumento dos números y devuelva el mayor de ellos. (Es cierto que python tiene una función max() incorporada, pero hacerla nosotros mismos es un muy buen ejercicio."
      ]
    },
    {
      "cell_type": "code",
      "metadata": {
        "id": "u_8cmWhR6tAV",
        "colab_type": "code",
        "colab": {
          "base_uri": "https://localhost:8080/",
          "height": 34
        },
        "outputId": "66909d6c-db9a-414d-beb7-640ea79cdb0c"
      },
      "source": [
        "def maximo(a, b):\n",
        "  if (a > b):\n",
        "    return a\n",
        "  else:\n",
        "    return b\n",
        "  \n",
        "maximo(5,15)"
      ],
      "execution_count": 32,
      "outputs": [
        {
          "output_type": "execute_result",
          "data": {
            "text/plain": [
              "15"
            ]
          },
          "metadata": {
            "tags": []
          },
          "execution_count": 32
        }
      ]
    },
    {
      "cell_type": "markdown",
      "metadata": {
        "id": "5PA8VZF18Gxc",
        "colab_type": "text"
      },
      "source": [
        "EJERCICIO 2:\n",
        "Definir una función max_de_tres(), que tome tres números como argumentos y devuelva el mayor de ellos."
      ]
    },
    {
      "cell_type": "code",
      "metadata": {
        "id": "kKiRD-Op8LCT",
        "colab_type": "code",
        "colab": {
          "base_uri": "https://localhost:8080/",
          "height": 34
        },
        "outputId": "d1101010-2b00-45d3-aed4-e428b3e94005"
      },
      "source": [
        "def max_de_tres(a,b,c):\n",
        "  if (a > b) and (a > c):\n",
        "    return a\n",
        "  elif (b > a) and (b > c):\n",
        "    return b\n",
        "  else:\n",
        "    return c\n",
        "  \n",
        "max_de_tres(222,55,14)"
      ],
      "execution_count": 38,
      "outputs": [
        {
          "output_type": "execute_result",
          "data": {
            "text/plain": [
              "222"
            ]
          },
          "metadata": {
            "tags": []
          },
          "execution_count": 38
        }
      ]
    },
    {
      "cell_type": "markdown",
      "metadata": {
        "id": "BOPdEwK69Tos",
        "colab_type": "text"
      },
      "source": [
        "EJERCICIO 3:\n",
        "\n",
        "Escribir una función que tome un carácter y devuelva True si\n",
        " es una vocal, de lo contrario devuelve False."
      ]
    },
    {
      "cell_type": "code",
      "metadata": {
        "id": "DKOyEav49WvU",
        "colab_type": "code",
        "colab": {
          "base_uri": "https://localhost:8080/",
          "height": 51
        },
        "outputId": "28aa76ae-fd02-4e9a-92dd-8598ba1495b9"
      },
      "source": [
        "def voc_o_cons():\n",
        "    letra = str(input(\"Ingrese una letra: \"))\n",
        "    if letra == \"a\" or letra == \"e\" or letra == \"i\" or letra == \"o\" or letra == \"u\":\n",
        "        return True\n",
        "    else:\n",
        "        return False\n",
        "\n",
        "voc_o_cons()"
      ],
      "execution_count": 40,
      "outputs": [
        {
          "output_type": "stream",
          "text": [
            "Ingrese una letra: i\n"
          ],
          "name": "stdout"
        },
        {
          "output_type": "execute_result",
          "data": {
            "text/plain": [
              "True"
            ]
          },
          "metadata": {
            "tags": []
          },
          "execution_count": 40
        }
      ]
    }
  ]
}