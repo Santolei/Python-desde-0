{
  "nbformat": 4,
  "nbformat_minor": 0,
  "metadata": {
    "colab": {
      "name": "Untitled5.ipynb",
      "version": "0.3.2",
      "provenance": [],
      "collapsed_sections": []
    },
    "kernelspec": {
      "name": "python3",
      "display_name": "Python 3"
    }
  },
  "cells": [
    {
      "cell_type": "markdown",
      "metadata": {
        "id": "tSfHH8XUpxnP",
        "colab_type": "text"
      },
      "source": [
        "Estos son los distintos tipos de operadores con los que puede trabajar con valores booleanos, los llamados operadores\n",
        "lógicos o condicionales:\n",
        "\n",
        "==== OPERADOR AND ===================\n",
        "\n",
        "El operador and evalúa si el valor del lado izquierdo y el lado derecho se cumple.\n"
      ]
    },
    {
      "cell_type": "code",
      "metadata": {
        "id": "wgActpEpp3Wu",
        "colab_type": "code",
        "colab": {}
      },
      "source": [
        "print(True and False)"
      ],
      "execution_count": 0,
      "outputs": []
    },
    {
      "cell_type": "markdown",
      "metadata": {
        "id": "Br4m3kelp7y2",
        "colab_type": "text"
      },
      "source": [
        "==== OPERADOR OR ===================\n",
        "\n",
        "El operador or evalúa si el valor del lado izquierdo o el lado derecho se cumple."
      ]
    },
    {
      "cell_type": "code",
      "metadata": {
        "id": "stCsN5aup_eu",
        "colab_type": "code",
        "colab": {}
      },
      "source": [
        "print(True or False)"
      ],
      "execution_count": 0,
      "outputs": []
    },
    {
      "cell_type": "markdown",
      "metadata": {
        "id": "u05AVEZDqBh_",
        "colab_type": "text"
      },
      "source": [
        "==== OPERADOR NOT ===================\n",
        "\n",
        "El operador not devuelve el valor opuesto la valor booleano."
      ]
    },
    {
      "cell_type": "code",
      "metadata": {
        "id": "7zz1IJgJqD4G",
        "colab_type": "code",
        "colab": {}
      },
      "source": [
        "print(not True)"
      ],
      "execution_count": 0,
      "outputs": []
    }
  ]
}