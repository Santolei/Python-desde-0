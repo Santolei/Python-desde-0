{
  "nbformat": 4,
  "nbformat_minor": 0,
  "metadata": {
    "colab": {
      "name": "Untitled4.ipynb",
      "version": "0.3.2",
      "provenance": [],
      "collapsed_sections": []
    },
    "kernelspec": {
      "name": "python3",
      "display_name": "Python 3"
    }
  },
  "cells": [
    {
      "cell_type": "markdown",
      "metadata": {
        "id": "nEJVaThSoJdJ",
        "colab_type": "text"
      },
      "source": [
        "====Condicionales =============================\n",
        "\n",
        "====IF =======================================\n",
        "  \n",
        " Solo ejecutará el código cuando la sentencia es verdadera:"
      ]
    },
    {
      "cell_type": "code",
      "metadata": {
        "id": "MW5IfJ6Pof0P",
        "colab_type": "code",
        "colab": {
          "base_uri": "https://localhost:8080/",
          "height": 34
        },
        "outputId": "4a452bf0-b8ef-44aa-cef0-99515b94b894"
      },
      "source": [
        "numero = 5\n",
        "\n",
        "if numero > 0:\n",
        "    print(numero, \"Es mayor que 0\")"
      ],
      "execution_count": 3,
      "outputs": [
        {
          "output_type": "stream",
          "text": [
            "5 Es mayor que 0\n"
          ],
          "name": "stdout"
        }
      ]
    },
    {
      "cell_type": "markdown",
      "metadata": {
        "id": "VpsY29Fwol-O",
        "colab_type": "text"
      },
      "source": [
        "====ELIF =======================================\n",
        "\n",
        "La sentencia elif significa, \"De lo contrario\". Si no se cumple la expresión condicional se ejecuta el bloque \n",
        "de sentencias seguidas."
      ]
    },
    {
      "cell_type": "code",
      "metadata": {
        "id": "VJarIjJJo04H",
        "colab_type": "code",
        "colab": {
          "base_uri": "https://localhost:8080/",
          "height": 34
        },
        "outputId": "da9e8429-1769-412f-a5ee-9c7af08d6632"
      },
      "source": [
        "numero = -2\n",
        "\n",
        "if numero > 0:\n",
        "    print(numero, \"Es mayor que 0\")\n",
        "elif numero < 0:\n",
        "    print(\"Es menor\")\n"
      ],
      "execution_count": 8,
      "outputs": [
        {
          "output_type": "stream",
          "text": [
            "Es menor\n"
          ],
          "name": "stdout"
        }
      ]
    },
    {
      "cell_type": "markdown",
      "metadata": {
        "id": "S4RJPuyCpWHW",
        "colab_type": "text"
      },
      "source": [
        "==== ELSE ===========================\n",
        "\n",
        " La sentencia else, significa, De lo contrario. Se cumple cuando ninguna de los condicionales anteriores se ha \n",
        "cumplido."
      ]
    },
    {
      "cell_type": "code",
      "metadata": {
        "id": "hS0GMNsMpYru",
        "colab_type": "code",
        "colab": {
          "base_uri": "https://localhost:8080/",
          "height": 34
        },
        "outputId": "92aa5bf9-8a39-4773-9c20-569f4153cc6b"
      },
      "source": [
        "numero = 0\n",
        "\n",
        "if numero > 0:\n",
        "    print(numero, \"Es mayor que 0\")\n",
        "elif numero < 0:\n",
        "    print(\"Es menor\")\n",
        "else:\n",
        "    print(\"Es el Cero\")"
      ],
      "execution_count": 9,
      "outputs": [
        {
          "output_type": "stream",
          "text": [
            "Es el Cero\n"
          ],
          "name": "stdout"
        }
      ]
    },
    {
      "cell_type": "markdown",
      "metadata": {
        "id": "gz2NY_O2pcA2",
        "colab_type": "text"
      },
      "source": [
        "==== CONDICIONALES ANIDADOS =========\n",
        "\n",
        "if condición_1:\n",
        "        bloque 1\n",
        "else:\n",
        "    if condición_2:\n",
        "        bloque 2\n",
        "    else:\n",
        "        bloque 3 "
      ]
    },
    {
      "cell_type": "code",
      "metadata": {
        "id": "9cuC27upphRm",
        "colab_type": "code",
        "colab": {
          "base_uri": "https://localhost:8080/",
          "height": 34
        },
        "outputId": "109be129-3932-4984-d047-c96cc8da1838"
      },
      "source": [
        "numero2 = -4\n",
        "if numero2 > 0:\n",
        "    print(numero2, \"Es mayor que 0\")\n",
        "else:\n",
        "    if numero2 < 0:\n",
        "        print(\"Es menor o igual a 0\")"
      ],
      "execution_count": 10,
      "outputs": [
        {
          "output_type": "stream",
          "text": [
            "Es menor o igual a 0\n"
          ],
          "name": "stdout"
        }
      ]
    }
  ]
}