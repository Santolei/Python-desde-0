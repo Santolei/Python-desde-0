{
  "nbformat": 4,
  "nbformat_minor": 0,
  "metadata": {
    "colab": {
      "name": "Untitled3.ipynb",
      "version": "0.3.2",
      "provenance": [],
      "collapsed_sections": []
    },
    "kernelspec": {
      "name": "python3",
      "display_name": "Python 3"
    }
  },
  "cells": [
    {
      "cell_type": "markdown",
      "metadata": {
        "id": "47vnrrMRnBA_",
        "colab_type": "text"
      },
      "source": [
        "Un string es un conjunto de caracteres que se encierran en comillas dobles o simples."
      ]
    },
    {
      "cell_type": "code",
      "metadata": {
        "id": "7qntat6InBs_",
        "colab_type": "code",
        "colab": {}
      },
      "source": [
        "mi_string = \"Hola, esto es un string\"\n",
        "mi_string = \" Este es un string \\n que contiene saltos de linea\\n como podes ver, \"\n",
        "\n",
        "print(mi_string)"
      ],
      "execution_count": 0,
      "outputs": []
    },
    {
      "cell_type": "markdown",
      "metadata": {
        "id": "lXNqDs40nNnX",
        "colab_type": "text"
      },
      "source": [
        "==== FORMATEANDO UN TEXTO ==========="
      ]
    },
    {
      "cell_type": "code",
      "metadata": {
        "id": "IrA-MxROnRX2",
        "colab_type": "code",
        "colab": {}
      },
      "source": [
        "lenguaje = \"Python 3\"\n",
        "nombre = \"Santiago\"\n",
        "\n",
        "# teniendo esas 2 variables podemos formar un texto de las siguientes maneras:\n",
        "\n",
        "mensaje_1= \"Aprendiendo \" + lenguaje + \" con \"+ nombre\n",
        "mensaje_2= \"Aprendiendo %s con %s\" %(lenguaje,nombre)\n",
        "mensaje_3= \"Aprendiendo {} con {} \".format(lenguaje,nombre)\n",
        "\n",
        "print(mensaje_1)\n",
        "print(mensaje_2)\n",
        "print(mensaje_3)\n"
      ],
      "execution_count": 0,
      "outputs": []
    },
    {
      "cell_type": "markdown",
      "metadata": {
        "id": "IVaV_V0Nnszu",
        "colab_type": "text"
      },
      "source": [
        "Como pueden ver los 3 mensajes dan el mismo resultado pero lo hicimos de distintas maneras.\n",
        "La forma básica y que primero se aprende es con el + colocando las variables fuera de las comillas y el texto fijo entre\n",
        "comillas.\n",
        "La segunda forma es con los símbolos \"%s\" que suplantarían a las variables. (Nota: A partir de python 3 se recomienda \n",
        "el uso de format()).\n",
        "Y finalmente tenemos la función format() que nos permite hacer múltiples sustituciones, esto es epecialmente bueno \n",
        "cuando trabajamos con largas listas o tuplas.\n",
        "con format() Se pueden combinar arbitrariamente argumentos posicionales y nombrados:\n",
        "Ejemplo:"
      ]
    },
    {
      "cell_type": "code",
      "metadata": {
        "id": "c32vfOsant-n",
        "colab_type": "code",
        "colab": {
          "base_uri": "https://localhost:8080/",
          "height": 34
        },
        "outputId": "353993ad-70b5-4db9-f6b3-1b51f394731c"
      },
      "source": [
        "print(\"La historia de {0}, {1} y {otro}.\".format('Juan', 'Jose', otro='Luis'))"
      ],
      "execution_count": 5,
      "outputs": [
        {
          "output_type": "stream",
          "text": [
            "La historia de Juan, Jose y Luis.\n"
          ],
          "name": "stdout"
        }
      ]
    },
    {
      "cell_type": "code",
      "metadata": {
        "id": "dhZFjw3CnzNn",
        "colab_type": "code",
        "colab": {
          "base_uri": "https://localhost:8080/",
          "height": 34
        },
        "outputId": "258bbde3-89bf-43ab-e98a-bbc48045c9d2"
      },
      "source": [
        "print(\"Mis mascotas son un {}, un {} y un {}\".format('Perro', 'Gato', 'Hamster'))"
      ],
      "execution_count": 6,
      "outputs": [
        {
          "output_type": "stream",
          "text": [
            "Mis mascotas son un Perro, un Gato y un Hamster\n"
          ],
          "name": "stdout"
        }
      ]
    },
    {
      "cell_type": "markdown",
      "metadata": {
        "id": "XiQtAcl4n4ZP",
        "colab_type": "text"
      },
      "source": [
        "Esto último podemos optimizarlo de esta forma:"
      ]
    },
    {
      "cell_type": "code",
      "metadata": {
        "id": "sYubJqBGn46f",
        "colab_type": "code",
        "colab": {
          "base_uri": "https://localhost:8080/",
          "height": 34
        },
        "outputId": "517ffe3d-604b-4442-a20d-aaf39630fa1d"
      },
      "source": [
        "mascotas = ['Perro', 'Gato', 'Hamster']\n",
        "\n",
        "print(\"Mis mascotas son un {}, un {} y un {}\".format(*mascotas))"
      ],
      "execution_count": 7,
      "outputs": [
        {
          "output_type": "stream",
          "text": [
            "Mis mascotas son un Perro, un Gato y un Hamster\n"
          ],
          "name": "stdout"
        }
      ]
    }
  ]
}