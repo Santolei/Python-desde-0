{
  "nbformat": 4,
  "nbformat_minor": 0,
  "metadata": {
    "colab": {
      "name": "Untitled1.ipynb",
      "version": "0.3.2",
      "provenance": [],
      "collapsed_sections": []
    },
    "kernelspec": {
      "name": "python3",
      "display_name": "Python 3"
    }
  },
  "cells": [
    {
      "cell_type": "markdown",
      "metadata": {
        "id": "pWoBZqMblr1k",
        "colab_type": "text"
      },
      "source": [
        "La indentación (o dejar un espacio en blanco o sangría) es una de las características más remarcables de Python\n",
        "(y una de las causas más comunes por las que nos salga un error)\n",
        "En Python, las líneas de código que están dentro de un mismo\n",
        "deben estar agrupadas, teniendo el mismo número de espacios a la izquierda de cada línea\n",
        "Por ejemplo:\n",
        "\n",
        "Carrefour\n",
        "   Carnicería\n",
        "       Cerdo\n",
        "       Pollo\n",
        "   Pescadería\n",
        "       Atún\n",
        " Coto\n",
        "   Verdulería\n",
        "       Peras\n",
        "       Manzanas\n",
        "       \n",
        "Pero si lo hicieramos de esta manera estaría mal y no daría un error:\n",
        "\n",
        " Coto\n",
        "   Verdulería\n",
        "       Peras\n",
        "   Manzanas\n",
        "   \n",
        "como podemos ver \"Manzanas\" está al mismo nivel que \"verdulería\" y cuando debería tener un nivel inferior\n",
        "(yo lo pienso como que está dentro de verdulería)\n",
        "\n",
        "Veamos un ejemplo con un IF (Si no sabes lo que es un if, no te preocupes que ya vamos a llegar)"
      ]
    },
    {
      "cell_type": "code",
      "metadata": {
        "id": "Ry78JAbtlvPI",
        "colab_type": "code",
        "colab": {
          "base_uri": "https://localhost:8080/",
          "height": 34
        },
        "outputId": "0d18afc7-0368-4dfe-e057-ca0e8f6bc6af"
      },
      "source": [
        "x = 6\n",
        "if x > 5:\n",
        "    print(\"X es más grande que 5\")"
      ],
      "execution_count": 1,
      "outputs": [
        {
          "output_type": "stream",
          "text": [
            "X es más grande que 5\n"
          ],
          "name": "stdout"
        }
      ]
    },
    {
      "cell_type": "markdown",
      "metadata": {
        "id": "HknXAblXmSkI",
        "colab_type": "text"
      },
      "source": [
        "Como podemos ver solo se va a imprimir en pantalla el resultado siempre que x sea mayor a 5 pero si lo indentamos\n",
        "de esta manera va a dar error:"
      ]
    },
    {
      "cell_type": "code",
      "metadata": {
        "id": "uwVRKJdtmUA4",
        "colab_type": "code",
        "colab": {}
      },
      "source": [
        "x = 6\n",
        "if x > 5:\n",
        "print(\"X es más grande que 5\")"
      ],
      "execution_count": 0,
      "outputs": []
    },
    {
      "cell_type": "markdown",
      "metadata": {
        "id": "Ac3udF2PmY8H",
        "colab_type": "text"
      },
      "source": [
        "Otro posible error:\n",
        "IndentationError: unexpected indent\n",
        "Estos son unos de lo errores más comunes de python asique acostumbrate a verlos seguido, cuando los veas es porque\n",
        "tuviste algun error al indentar"
      ]
    }
  ]
}