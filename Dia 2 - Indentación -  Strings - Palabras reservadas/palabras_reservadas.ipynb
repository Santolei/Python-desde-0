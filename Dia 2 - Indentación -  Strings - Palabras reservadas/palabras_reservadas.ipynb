{
  "nbformat": 4,
  "nbformat_minor": 0,
  "metadata": {
    "colab": {
      "name": "Untitled2.ipynb",
      "version": "0.3.2",
      "provenance": [],
      "collapsed_sections": []
    },
    "kernelspec": {
      "name": "python3",
      "display_name": "Python 3"
    }
  },
  "cells": [
    {
      "cell_type": "markdown",
      "metadata": {
        "id": "3FNpO740moKC",
        "colab_type": "text"
      },
      "source": [
        " Como en todos los lenguajes de programación, existen ciertas palabras reservadas que no podemos utilizar para nombrar\n",
        " variables. Son las siguientes:\n",
        "\n",
        " False               def                 if                  raise\n",
        " None                del                 import              return\n",
        " True                elif                in                  try\n",
        " and                 else                is                  while\n",
        " as                  except              lambda              with\n",
        " assert              finally             nonlocal            yield\n",
        " break               for                 not\n",
        " class               from                or\n",
        " continue            global              pass\n",
        "\n",
        " También podemos ver este listado desde la consola de Python tipeando help() y luego \"keywords\"\n",
        "\n",
        " Veamos que pasa si las usamos:"
      ]
    },
    {
      "cell_type": "code",
      "metadata": {
        "id": "y3g9LducmtP-",
        "colab_type": "code",
        "colab": {
          "base_uri": "https://localhost:8080/",
          "height": 129
        },
        "outputId": "be0f6baa-b0f4-4847-834c-380216efc08a"
      },
      "source": [
        "for = 4"
      ],
      "execution_count": 1,
      "outputs": [
        {
          "output_type": "error",
          "ename": "SyntaxError",
          "evalue": "ignored",
          "traceback": [
            "\u001b[0;36m  File \u001b[0;32m\"<ipython-input-1-7b12443457ee>\"\u001b[0;36m, line \u001b[0;32m1\u001b[0m\n\u001b[0;31m    for = 4\u001b[0m\n\u001b[0m        ^\u001b[0m\n\u001b[0;31mSyntaxError\u001b[0m\u001b[0;31m:\u001b[0m invalid syntax\n"
          ]
        }
      ]
    }
  ]
}