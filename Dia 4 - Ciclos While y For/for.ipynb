{
  "nbformat": 4,
  "nbformat_minor": 0,
  "metadata": {
    "colab": {
      "name": "Untitled6.ipynb",
      "version": "0.3.2",
      "provenance": [],
      "collapsed_sections": []
    },
    "kernelspec": {
      "name": "python3",
      "display_name": "Python 3"
    }
  },
  "cells": [
    {
      "cell_type": "markdown",
      "metadata": {
        "id": "F2EaA5lNq6bH",
        "colab_type": "text"
      },
      "source": [
        "Un bucle for es un bucle que repite el bloque de instrucciones un número prederminado de veces.\n",
        "El bloque de instrucciones que se repite se suele llamar cuerpo del bucle y cada repetición se suele llamar iteración.'"
      ]
    },
    {
      "cell_type": "code",
      "metadata": {
        "id": "ufdSjubQq-yV",
        "colab_type": "code",
        "colab": {}
      },
      "source": [
        "print(\"Comienzo\")\n",
        "numeros = [0, 1, 2, 3, 4, 5, 6, 7, 8, 9, 10]\n",
        "for i in numeros:\n",
        "    print(\"numero\", i)\n",
        "print(\"Final\")"
      ],
      "execution_count": 0,
      "outputs": []
    },
    {
      "cell_type": "code",
      "metadata": {
        "id": "LAjTP1B7rCJd",
        "colab_type": "code",
        "colab": {}
      },
      "source": [
        "for x in range (1,9):\n",
        "    print(x)"
      ],
      "execution_count": 0,
      "outputs": []
    },
    {
      "cell_type": "markdown",
      "metadata": {
        "id": "oHZw-AXHrL-d",
        "colab_type": "text"
      },
      "source": [
        "A continuación, se presenta un ejemplo del uso del bucle for con tuplas"
      ]
    },
    {
      "cell_type": "code",
      "metadata": {
        "id": "_eyJ_rHQrSvV",
        "colab_type": "code",
        "colab": {}
      },
      "source": [
        "conexion_bd = \"127.0.0.1\",\"root\",\"123456\",\"nomina\"\n",
        "for parametros in conexion_bd:\n",
        "    print(parametros)"
      ],
      "execution_count": 0,
      "outputs": []
    },
    {
      "cell_type": "markdown",
      "metadata": {
        "id": "1AOeRweIrjuN",
        "colab_type": "text"
      },
      "source": [
        "Con diccionarios:"
      ]
    },
    {
      "cell_type": "code",
      "metadata": {
        "id": "D6p9Dm6arlJu",
        "colab_type": "code",
        "colab": {
          "base_uri": "https://localhost:8080/",
          "height": 136
        },
        "outputId": "9d053fbd-ad8f-49be-b64e-9619c7c364a1"
      },
      "source": [
        "datos_basicos = {\n",
        "    \"nombre\":\"Santiago\",\n",
        "    \"apellido\":\"Tolosa\",\n",
        "    \"dni\":\"34304468\",\n",
        "    \"fecha_nacimiento\":\"21/02/1989\",\n",
        "    \"lugar_nacimiento\":\"Buenos Aires\",\n",
        "    \"nacionalidad\":\"Argentino\",\n",
        "    \"estado_civil\":\"Casado\"\n",
        "}\n",
        "clave = datos_basicos.keys()\n",
        "valor = datos_basicos.values()\n",
        "cantidad_datos = datos_basicos.items()\n",
        "\n",
        "for clave, valor in cantidad_datos:\n",
        "    print(clave + \": \" + valor)"
      ],
      "execution_count": 7,
      "outputs": [
        {
          "output_type": "stream",
          "text": [
            "nombres: Santiago\n",
            "apellidos: Tolosa\n",
            "dni: 34304468\n",
            "fecha_nacimiento: 21/02/1989\n",
            "lugar_nacimiento: Buenos Aires\n",
            "nacionalidad: Argentino\n",
            "estado_civil: Casado\n"
          ],
          "name": "stdout"
        }
      ]
    }
  ]
}