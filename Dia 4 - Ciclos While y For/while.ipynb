{
  "nbformat": 4,
  "nbformat_minor": 0,
  "metadata": {
    "colab": {
      "name": "Untitled7.ipynb",
      "version": "0.3.2",
      "provenance": [],
      "collapsed_sections": []
    },
    "kernelspec": {
      "name": "python3",
      "display_name": "Python 3"
    }
  },
  "cells": [
    {
      "cell_type": "markdown",
      "metadata": {
        "id": "qTJc0zDosch8",
        "colab_type": "text"
      },
      "source": [
        "While es un ciclo o secuencia periódica que nos permite ejecutar código múltiples veces.\n",
        "\n",
        "El ciclo while nos permite realizar múltiples iteraciones basándonos en el resultado de una expresión lógica\n",
        "que puede tener como resultado un valor True o False."
      ]
    },
    {
      "cell_type": "code",
      "metadata": {
        "id": "nmDTsM6gsdEc",
        "colab_type": "code",
        "colab": {
          "base_uri": "https://localhost:8080/",
          "height": 102
        },
        "outputId": "524f5cf4-5c97-400e-fa11-72930915a342"
      },
      "source": [
        "contador = 0\n",
        "while contador < 5:\n",
        "    print(contador)\n",
        "    contador +=1"
      ],
      "execution_count": 1,
      "outputs": [
        {
          "output_type": "stream",
          "text": [
            "0\n",
            "1\n",
            "2\n",
            "3\n",
            "4\n"
          ],
          "name": "stdout"
        }
      ]
    },
    {
      "cell_type": "markdown",
      "metadata": {
        "id": "bAVK87nJsezU",
        "colab_type": "text"
      },
      "source": [
        "==== Ejercicio 1 ====================\n",
        "\n",
        "Escriba un algoritmo que lea del teclado un número entero y que compruebe si el número es menor que 10. \n",
        "Si no lo está, debe volver a leer el número repitiendo la operación hasta que el usuario escriba un valor correcto. \n",
        "Finalmente, debe escribir por pantalla el valor leído cuando este sea correcto.\n",
        "\n",
        "# Nota para leer un número usamos \"input()\""
      ]
    },
    {
      "cell_type": "code",
      "metadata": {
        "id": "uF4jzA6-skls",
        "colab_type": "code",
        "colab": {
          "base_uri": "https://localhost:8080/",
          "height": 51
        },
        "outputId": "ac3c17dd-0043-4797-dad0-ea75553223e7"
      },
      "source": [
        "numero = int(input(\"Ingrese un número menor a 10: => \"))\n",
        "while numero >= 10:\n",
        "    numero = int(input(\"Ingrese un número menor a 10: => \"))\n",
        "print(\"El numero ingresado es: \", numero)"
      ],
      "execution_count": 2,
      "outputs": [
        {
          "output_type": "stream",
          "text": [
            "Ingrese un número menor a 10: => 6\n",
            "El numero ingresado es:  6\n"
          ],
          "name": "stdout"
        }
      ]
    },
    {
      "cell_type": "markdown",
      "metadata": {
        "id": "2aGy0WSOspwc",
        "colab_type": "text"
      },
      "source": [
        "==== Ejercicio 2 ====================\n",
        "\n",
        "Modifique el algoritmo del problema anterior para que, en vez de comprobar que el número sea menor que 10, compruebe \n",
        "que se encuentre en el rango (0, 20)."
      ]
    },
    {
      "cell_type": "code",
      "metadata": {
        "id": "p_p2T9SZsrPN",
        "colab_type": "code",
        "colab": {}
      },
      "source": [
        "numero = int(input(\"Ingrese un número menor o igual a 20 y mayor o igual que 0: => \"))\n",
        "while numero < 0 or numero > 20:\n",
        "    numero = int(input(\"Ingrese un número menor o igual a 20 y mayor o igual que 0: => \"))\n",
        "print(\"El numero ingresado es: \", numero)"
      ],
      "execution_count": 0,
      "outputs": []
    },
    {
      "cell_type": "markdown",
      "metadata": {
        "id": "TrQ385hps3P0",
        "colab_type": "text"
      },
      "source": [
        "==== Ejercicio 3 ====================\n",
        "\n",
        "Modifique el algoritmo del problema anterior para que cuente las veces que ha leído un número de teclado y \n",
        "escriba el resultado por pantalla."
      ]
    },
    {
      "cell_type": "code",
      "metadata": {
        "id": "CxICdVxYs5iF",
        "colab_type": "code",
        "colab": {
          "base_uri": "https://localhost:8080/",
          "height": 119
        },
        "outputId": "50440779-d9aa-4b52-891f-65abf9486d90"
      },
      "source": [
        "numero = int(input(\"Ingrese un número menor o igual a 20 y mayor o igual que 0: => \"))\n",
        "contador = 1\n",
        "while numero < 0 or numero > 20:\n",
        "    numero = int(input(\"Ingrese un número menor o igual a 20 y mayor o igual que 0: => \"))\n",
        "    contador +=1\n",
        "print(\"El numero ingresado es: \", numero)\n",
        "print(\"Cantidad de intentos: \", contador)"
      ],
      "execution_count": 6,
      "outputs": [
        {
          "output_type": "stream",
          "text": [
            "Ingrese un número menor o igual a 20 y mayor o igual que 0: => 44\n",
            "Ingrese un número menor o igual a 20 y mayor o igual que 0: => 55\n",
            "Ingrese un número menor o igual a 20 y mayor o igual que 0: => 22\n",
            "Ingrese un número menor o igual a 20 y mayor o igual que 0: => 2\n",
            "El numero ingresado es:  2\n",
            "Cantidad de intentos:  4\n"
          ],
          "name": "stdout"
        }
      ]
    }
  ]
}