{
  "nbformat": 4,
  "nbformat_minor": 0,
  "metadata": {
    "colab": {
      "name": "Untitled8.ipynb",
      "version": "0.3.2",
      "provenance": [],
      "collapsed_sections": []
    },
    "kernelspec": {
      "name": "python3",
      "display_name": "Python 3"
    }
  },
  "cells": [
    {
      "cell_type": "markdown",
      "metadata": {
        "id": "jC9_CgfswC0H",
        "colab_type": "text"
      },
      "source": [
        "==== Break y Continue ===============\n",
        "\n",
        "Break se usa para interrumpir un ciclo for o while, mientras que \"Continue\" se usa para \"saltar\" el bloque de código actual y continuar con el siguiente:"
      ]
    },
    {
      "cell_type": "code",
      "metadata": {
        "id": "xRAwfzL9wJvz",
        "colab_type": "code",
        "colab": {
          "base_uri": "https://localhost:8080/",
          "height": 102
        },
        "outputId": "1a4ed7fe-e6db-4683-df55-14bd6f72009e"
      },
      "source": [
        "contador = 0\n",
        "while True:\n",
        "  print(contador)\n",
        "  contador += 1\n",
        "  if contador >= 5:\n",
        "    break"
      ],
      "execution_count": 1,
      "outputs": [
        {
          "output_type": "stream",
          "text": [
            "0\n",
            "1\n",
            "2\n",
            "3\n",
            "4\n"
          ],
          "name": "stdout"
        }
      ]
    },
    {
      "cell_type": "markdown",
      "metadata": {
        "id": "16WIPhQrw1ta",
        "colab_type": "text"
      },
      "source": [
        "Para ejemplificar el continue vamos a imprimir en pantalla solo los números impares:"
      ]
    },
    {
      "cell_type": "code",
      "metadata": {
        "id": "2XerKpNew88R",
        "colab_type": "code",
        "colab": {
          "base_uri": "https://localhost:8080/",
          "height": 102
        },
        "outputId": "3d4dac22-0aeb-40d7-d80a-365f7d8837f1"
      },
      "source": [
        "for x in range(10):\n",
        "  # acá chequeamos si x es par:\n",
        "  # esto podemos saberlo si el resto de dividirlo por 2 da 0 o sea el residuo:\n",
        "  if x % 2 == 0:\n",
        "    continue\n",
        "  print(x)"
      ],
      "execution_count": 2,
      "outputs": [
        {
          "output_type": "stream",
          "text": [
            "1\n",
            "3\n",
            "5\n",
            "7\n",
            "9\n"
          ],
          "name": "stdout"
        }
      ]
    }
  ]
}