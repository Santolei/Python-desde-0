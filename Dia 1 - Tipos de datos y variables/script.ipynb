{
 "cells": [
  {
   "cell_type": "markdown",
   "metadata": {
    "colab_type": "text",
    "id": "8_F7RS4EfNM1"
   },
   "source": [
    "Numeros"
   ]
  },
  {
   "cell_type": "code",
   "execution_count": 1,
   "metadata": {
    "colab": {
     "base_uri": "https://localhost:8080/",
     "height": 68
    },
    "colab_type": "code",
    "id": "fKRBUNzPBbPf",
    "outputId": "f5dcc975-d3d1-4451-90a2-4043b029f657"
   },
   "outputs": [
    {
     "name": "stdout",
     "output_type": "stream",
     "text": [
      "Entero: -4\n",
      "Flotante: 2.3302\n",
      "Complejo: (2.1+6j)\n"
     ]
    }
   ],
   "source": [
    "a = -4\n",
    "b = 2.3302\n",
    "c = 2.1 + 6j\n",
    "\n",
    "print(\"Entero:\", a)\n",
    "print(\"Flotante:\", b)\n",
    "print(\"Complejo:\", c)"
   ]
  },
  {
   "cell_type": "code",
   "execution_count": 2,
   "metadata": {
    "colab": {},
    "colab_type": "code",
    "id": "92Y8YP8qBsPZ"
   },
   "outputs": [
    {
     "name": "stdout",
     "output_type": "stream",
     "text": [
      "El numero 1 es -4\n"
     ]
    }
   ],
   "source": [
    "print(\"El numero 1 es\", a)"
   ]
  },
  {
   "cell_type": "code",
   "execution_count": 0,
   "metadata": {
    "colab": {},
    "colab_type": "code",
    "id": "NbQyVcqqC2-P"
   },
   "outputs": [],
   "source": [
    "resultado = a + b\n",
    "\n",
    "print(\"La suma de ambos es\", resultado)"
   ]
  },
  {
   "cell_type": "code",
   "execution_count": 3,
   "metadata": {
    "colab": {},
    "colab_type": "code",
    "id": "mISJBABTB3ln"
   },
   "outputs": [
    {
     "name": "stdout",
     "output_type": "stream",
     "text": [
      "El numero 2 es 2.3302\n"
     ]
    }
   ],
   "source": [
    "print(\"El numero 2 es\", b)"
   ]
  },
  {
   "cell_type": "markdown",
   "metadata": {
    "colab_type": "text",
    "id": "dNctKco7C8jn"
   },
   "source": [
    "==== Listas ===================\n",
    "\n",
    " Son un conjunto ordenado de ítems. Dichos items no tienen que ser necesariamente del mismo tipo.\n",
    " Declarar una lista es muy similar a otros lenguajes de programación, el contenido debe estar entre \"[]\" y separado por comas.\n",
    " EJEMPLO:"
   ]
  },
  {
   "cell_type": "code",
   "execution_count": 0,
   "metadata": {
    "colab": {},
    "colab_type": "code",
    "id": "vbKxI4zMDJXu"
   },
   "outputs": [],
   "source": [
    "lista = [1, 2, 3, \"Manzana\", True]\n",
    "\n",
    "print(\"Lista:\", lista)"
   ]
  },
  {
   "cell_type": "markdown",
   "metadata": {
    "colab_type": "text",
    "id": "JXSgtI9ODOun"
   },
   "source": [
    "Podemos acceder a cada uno de los ítems de la siguiente manera:"
   ]
  },
  {
   "cell_type": "code",
   "execution_count": 4,
   "metadata": {
    "colab": {},
    "colab_type": "code",
    "id": "C-MWAJ7eDf1D"
   },
   "outputs": [
    {
     "ename": "NameError",
     "evalue": "name 'lista' is not defined",
     "output_type": "error",
     "traceback": [
      "\u001b[1;31m---------------------------------------------------------------------------\u001b[0m",
      "\u001b[1;31mNameError\u001b[0m                                 Traceback (most recent call last)",
      "\u001b[1;32m<ipython-input-4-27fee5ec87a7>\u001b[0m in \u001b[0;36m<module>\u001b[1;34m\u001b[0m\n\u001b[1;32m----> 1\u001b[1;33m \u001b[0mprint\u001b[0m\u001b[1;33m(\u001b[0m\u001b[0mlista\u001b[0m\u001b[1;33m[\u001b[0m\u001b[1;36m3\u001b[0m\u001b[1;33m]\u001b[0m\u001b[1;33m)\u001b[0m\u001b[1;33m\u001b[0m\u001b[1;33m\u001b[0m\u001b[0m\n\u001b[0m\u001b[0;32m      2\u001b[0m \u001b[0mprint\u001b[0m\u001b[1;33m(\u001b[0m\u001b[1;34m\"El primer ítem es:\"\u001b[0m\u001b[1;33m,\u001b[0m \u001b[0mlista\u001b[0m\u001b[1;33m[\u001b[0m\u001b[1;36m0\u001b[0m\u001b[1;33m]\u001b[0m\u001b[1;33m)\u001b[0m\u001b[1;33m\u001b[0m\u001b[1;33m\u001b[0m\u001b[0m\n\u001b[0;32m      3\u001b[0m \u001b[0mprint\u001b[0m\u001b[1;33m(\u001b[0m\u001b[1;34m\"El quinto ítem es:\"\u001b[0m\u001b[1;33m,\u001b[0m \u001b[0mlista\u001b[0m\u001b[1;33m[\u001b[0m\u001b[1;36m4\u001b[0m\u001b[1;33m]\u001b[0m\u001b[1;33m)\u001b[0m\u001b[1;33m\u001b[0m\u001b[1;33m\u001b[0m\u001b[0m\n",
      "\u001b[1;31mNameError\u001b[0m: name 'lista' is not defined"
     ]
    }
   ],
   "source": [
    "print(lista[3])\n",
    "print(\"El primer ítem es:\", lista[0])\n",
    "print(\"El quinto ítem es:\", lista[4])"
   ]
  },
  {
   "cell_type": "markdown",
   "metadata": {
    "colab_type": "text",
    "id": "k8_lnXYoDyVg"
   },
   "source": [
    "==== Tuplas ===================\n",
    "\n",
    "Las tuplas son son una secuencia de ítems similar a las listas. Lo que las diferencia es que las tuplas son permantenes.\n",
    "<=<=<= IMPORTANTE =>=>=>\n",
    "Una vez generadas no pueden ser modificadas. Se suelen usar para proteger datos contra escritura y son más rápidas que las listas dado que no cambian dinámicamente.\n",
    "Se definen con \"()\" (parentesis) y separadas por comas.\n",
    "EJEMPLO:"
   ]
  },
  {
   "cell_type": "code",
   "execution_count": 5,
   "metadata": {
    "colab": {},
    "colab_type": "code",
    "id": "Al1XOXwcD3wv"
   },
   "outputs": [
    {
     "name": "stdout",
     "output_type": "stream",
     "text": [
      "Tupla: (23, 'Santiago', [123, 22, 33])\n"
     ]
    }
   ],
   "source": [
    "tupla = (23, \"Santiago\", [123, 22, 33])\n",
    "\n",
    "print(\"Tupla:\", tupla)"
   ]
  },
  {
   "cell_type": "markdown",
   "metadata": {
    "colab_type": "text",
    "id": "yOp5LjRRD_jX"
   },
   "source": [
    "Se puede acceder a las tuplas con [] al igual que en las listas pero no se pueden modificar esos datos:"
   ]
  },
  {
   "cell_type": "code",
   "execution_count": 6,
   "metadata": {
    "colab": {},
    "colab_type": "code",
    "id": "G792hokBEAhH"
   },
   "outputs": [
    {
     "name": "stdout",
     "output_type": "stream",
     "text": [
      "Mi nombre es: Santiago\n"
     ]
    }
   ],
   "source": [
    "print(\"Mi nombre es:\", tupla[1])"
   ]
  },
  {
   "cell_type": "markdown",
   "metadata": {
    "colab_type": "text",
    "id": "YzgtypdaEIun"
   },
   "source": [
    "CADENAS O STRINGS "
   ]
  },
  {
   "cell_type": "code",
   "execution_count": 7,
   "metadata": {
    "colab": {},
    "colab_type": "code",
    "id": "i46job_tELVe"
   },
   "outputs": [
    {
     "name": "stdout",
     "output_type": "stream",
     "text": [
      "Esto es un string\n"
     ]
    }
   ],
   "source": [
    "str = \"Esto es un string\"\n",
    "print(str)"
   ]
  },
  {
   "cell_type": "markdown",
   "metadata": {
    "colab_type": "text",
    "id": "LLrpYT7AFE6L"
   },
   "source": [
    "BOOLEANOS\n",
    "True / False"
   ]
  },
  {
   "cell_type": "code",
   "execution_count": 8,
   "metadata": {
    "colab": {},
    "colab_type": "code",
    "id": "vhriYNTGFKnf"
   },
   "outputs": [
    {
     "name": "stdout",
     "output_type": "stream",
     "text": [
      "X: True\n"
     ]
    }
   ],
   "source": [
    "x = True\n",
    "y = False\n",
    "\n",
    "print(\"X:\", x)"
   ]
  },
  {
   "cell_type": "markdown",
   "metadata": {
    "colab_type": "text",
    "id": "rw8fcyYUFSZ-"
   },
   "source": [
    "==== CONJUNTOS O SETS ===================\n",
    "\n",
    "Un conjunto es una colección no ordenada de objetos únicos.\n",
    "Para crear un conjunto especificamos sus elementos entre llaves:"
   ]
  },
  {
   "cell_type": "code",
   "execution_count": 9,
   "metadata": {
    "colab": {},
    "colab_type": "code",
    "id": "j5K2JUudFV8W"
   },
   "outputs": [],
   "source": [
    "set1 = {True, 3.14, None, False, \"Hola mundo\", (1, 2)}"
   ]
  },
  {
   "cell_type": "markdown",
   "metadata": {
    "colab_type": "text",
    "id": "Mw38RxfpFeOG"
   },
   "source": [
    "Se pueden hacer operaciones como uniones o intersecciones entre 2 sets, como tienen valores únicos se eliminan los duplicados."
   ]
  },
  {
   "cell_type": "code",
   "execution_count": 10,
   "metadata": {
    "colab": {
     "base_uri": "https://localhost:8080/",
     "height": 34
    },
    "colab_type": "code",
    "id": "0FuW0UXOFfN3",
    "outputId": "a7e1053e-189d-4114-ce11-8a0757482284"
   },
   "outputs": [
    {
     "name": "stdout",
     "output_type": "stream",
     "text": [
      "{1, 3, 'a'}\n"
     ]
    }
   ],
   "source": [
    "set2 = {1,1,3,\"a\", 3, \"a\"}\n",
    "\n",
    "print(set2)\n",
    "# Resultado => {1, 3, 'a'} Se eliminaron los duplicados :)"
   ]
  },
  {
   "cell_type": "markdown",
   "metadata": {
    "colab_type": "text",
    "id": "dbQprRGgFqTn"
   },
   "source": [
    "Vamos a hacer una union:"
   ]
  },
  {
   "cell_type": "code",
   "execution_count": 11,
   "metadata": {
    "colab": {},
    "colab_type": "code",
    "id": "omMX-J0WFrju"
   },
   "outputs": [
    {
     "name": "stdout",
     "output_type": "stream",
     "text": [
      "{1, 2, 3, 4, 5, 6, 7, 8}\n"
     ]
    }
   ],
   "source": [
    "set3 = {1,2,3,4}\n",
    "set4 = {4,5,6,7,8}\n",
    "\n",
    "print(set3 | set4)"
   ]
  },
  {
   "cell_type": "markdown",
   "metadata": {
    "colab_type": "text",
    "id": "zhuOt6wSFvsm"
   },
   "source": [
    "Ahora una intersección:"
   ]
  },
  {
   "cell_type": "code",
   "execution_count": 12,
   "metadata": {
    "colab": {},
    "colab_type": "code",
    "id": "sj9YSFlEFwfe"
   },
   "outputs": [
    {
     "name": "stdout",
     "output_type": "stream",
     "text": [
      "{4}\n"
     ]
    }
   ],
   "source": [
    "print(set3 & set4)"
   ]
  },
  {
   "cell_type": "markdown",
   "metadata": {
    "colab_type": "text",
    "id": "S2gvVlUEFyWX"
   },
   "source": [
    "==== Diccionarios ==================\n",
    "\n",
    "Son estructuras de datos con características especiales que nos permiten almacenar cualquier tipo de valor.\n",
    "Estos diccionarios nos permiten identificar cada elemento por una clave (key)."
   ]
  },
  {
   "cell_type": "code",
   "execution_count": 0,
   "metadata": {
    "colab": {},
    "colab_type": "code",
    "id": "5Xfay9lmF5jG"
   },
   "outputs": [],
   "source": [
    "diccionario = {'nombre': 'Santiago', 'edad': 30, 'habilidades': ['Python', 'Php', 'JavaScript', 'Jiu-jitsu']}\n",
    "\n",
    "print(diccionario['nombre'])\n",
    "print(diccionario['edad'])\n",
    "print(diccionario['habilidades'])"
   ]
  },
  {
   "cell_type": "markdown",
   "metadata": {
    "colab_type": "text",
    "id": "co8zJMMZGAg2"
   },
   "source": [
    "==== Variables ===================\n",
    "\n",
    "Pasamos a otro tema, las variables en python no necesitan ser declaradas como en otros lenguajes de programación.\n",
    "Para generar una variable le asignamos un valor y comenzamos a usarla. Así de simple. los valores se asignan con \"=\""
   ]
  },
  {
   "cell_type": "code",
   "execution_count": 0,
   "metadata": {
    "colab": {},
    "colab_type": "code",
    "id": "Viyl9vj2GKtP"
   },
   "outputs": [],
   "source": [
    "variable1 = 123\n",
    "print(variable1)"
   ]
  },
  {
   "cell_type": "markdown",
   "metadata": {
    "colab_type": "text",
    "id": "Ekd9w0pcGLSe"
   },
   "source": [
    "si cambiamos el valor de la variable y la usamos de nuevo el valor será sustituido:"
   ]
  },
  {
   "cell_type": "code",
   "execution_count": 0,
   "metadata": {
    "colab": {},
    "colab_type": "code",
    "id": "Zpt9-5f7GQH-"
   },
   "outputs": [],
   "source": [
    "variable1 = 200\n",
    "print(variable1)"
   ]
  },
  {
   "cell_type": "markdown",
   "metadata": {
    "colab_type": "text",
    "id": "5p6hZTLwGSo2"
   },
   "source": [
    "Python también nos permite asignar el mismo valor a varias variables al mismo tiempo:"
   ]
  },
  {
   "cell_type": "code",
   "execution_count": 0,
   "metadata": {
    "colab": {},
    "colab_type": "code",
    "id": "ai-MYHblGWcO"
   },
   "outputs": [],
   "source": [
    "a = b = c = 300\n",
    "print(a,b,c)"
   ]
  },
  {
   "cell_type": "markdown",
   "metadata": {
    "colab_type": "text",
    "id": "fcFD2qpIGiBm"
   },
   "source": [
    "==== TIPOS DE VARIABLES =============\n",
    "\n",
    "En muchos lenguajes de programación las variables van de acuerdo a los tipos. eso indica que una variable es declarada\n",
    "inicialmente para tener un tipo particular y siempre será el mismo. Las variables en python no están sujetas a esa restricción:\n",
    "\n"
   ]
  },
  {
   "cell_type": "code",
   "execution_count": 20,
   "metadata": {
    "colab": {
     "base_uri": "https://localhost:8080/",
     "height": 34
    },
    "colab_type": "code",
    "id": "P-43AA9eHm-l",
    "outputId": "b8c202b1-d09d-4ca3-9196-f3b36b01b698"
   },
   "outputs": [
    {
     "name": "stdout",
     "output_type": "stream",
     "text": [
      "23.5\n"
     ]
    }
   ],
   "source": [
    "var = 23.5\n",
    "print(var)"
   ]
  },
  {
   "cell_type": "code",
   "execution_count": 0,
   "metadata": {
    "colab": {},
    "colab_type": "code",
    "id": "NmcZWW2GHoN1"
   },
   "outputs": [],
   "source": [
    "var = \"Ahora soy un string\"\n",
    "print(var)"
   ]
  },
  {
   "cell_type": "markdown",
   "metadata": {
    "colab_type": "text",
    "id": "KieJlwWBHuZe"
   },
   "source": [
    "\n",
    "==== EJERCICIO ======================\n",
    "\n",
    "Crear dos variables numéricas, sumarlas y mostrar el resultado"
   ]
  },
  {
   "cell_type": "code",
   "execution_count": 0,
   "metadata": {
    "colab": {},
    "colab_type": "code",
    "id": "tj14IUyHHy7-"
   },
   "outputs": [],
   "source": [
    "variable1 = 3\n",
    "variable2 = 1\n",
    "\n",
    "suma = variable1 + variable2\n",
    "\n",
    "print(\"La suma de \", variable1, \"+\", variable2, \"=\", suma)"
   ]
  },
  {
   "cell_type": "markdown",
   "metadata": {
    "colab_type": "text",
    "id": "H0SbZGVye8fF"
   },
   "source": [
    "\n",
    "==== EJERCICIO 2 ====================\n",
    "\n",
    "Mostrar el precio del IVA de un producto con un valor de 100 y su precio final."
   ]
  },
  {
   "cell_type": "code",
   "execution_count": 0,
   "metadata": {
    "colab": {},
    "colab_type": "code",
    "id": "jxNGKRl1fE79"
   },
   "outputs": [],
   "source": [
    "IVA = 0.21\n",
    "\n",
    "precioProducto = 100\n",
    "\n",
    "precioIVA = precioProducto * IVA\n",
    "\n",
    "print(\"El precio del IVA es\", precioIVA, \"$\")\n",
    "\n",
    "print(\"El precio final es $\", (precioIVA + precioProducto))"
   ]
  }
 ],
 "metadata": {
  "colab": {
   "collapsed_sections": [],
   "name": "Untitled0.ipynb",
   "provenance": [],
   "version": "0.3.2"
  },
  "kernelspec": {
   "display_name": "Python 3",
   "language": "python",
   "name": "python3"
  },
  "language_info": {
   "codemirror_mode": {
    "name": "ipython",
    "version": 3
   },
   "file_extension": ".py",
   "mimetype": "text/x-python",
   "name": "python",
   "nbconvert_exporter": "python",
   "pygments_lexer": "ipython3",
   "version": "3.7.3"
  }
 },
 "nbformat": 4,
 "nbformat_minor": 1
}
